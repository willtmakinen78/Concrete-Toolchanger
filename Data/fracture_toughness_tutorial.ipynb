{
 "cells": [
  {
   "cell_type": "code",
   "execution_count": 78,
   "metadata": {},
   "outputs": [],
   "source": [
    "import numpy as np\n",
    "import pandas as pd\n",
    "from matplotlib import pyplot as plt"
   ]
  },
  {
   "cell_type": "code",
   "execution_count": 79,
   "metadata": {},
   "outputs": [
    {
     "data": {
      "text/html": [
       "<div>\n",
       "<style scoped>\n",
       "    .dataframe tbody tr th:only-of-type {\n",
       "        vertical-align: middle;\n",
       "    }\n",
       "\n",
       "    .dataframe tbody tr th {\n",
       "        vertical-align: top;\n",
       "    }\n",
       "\n",
       "    .dataframe thead th {\n",
       "        text-align: right;\n",
       "    }\n",
       "</style>\n",
       "<table border=\"1\" class=\"dataframe\">\n",
       "  <thead>\n",
       "    <tr style=\"text-align: right;\">\n",
       "      <th></th>\n",
       "      <th>Crosshead</th>\n",
       "      <th>Load</th>\n",
       "      <th>Time (sec)</th>\n",
       "      <th>Extensometer</th>\n",
       "    </tr>\n",
       "  </thead>\n",
       "  <tbody>\n",
       "    <tr>\n",
       "      <th>1</th>\n",
       "      <td>-0.000098</td>\n",
       "      <td>-3.087354</td>\n",
       "      <td>0.200000</td>\n",
       "      <td>0.000012</td>\n",
       "    </tr>\n",
       "    <tr>\n",
       "      <th>2</th>\n",
       "      <td>-0.000146</td>\n",
       "      <td>-3.070797</td>\n",
       "      <td>0.300000</td>\n",
       "      <td>0.000026</td>\n",
       "    </tr>\n",
       "    <tr>\n",
       "      <th>3</th>\n",
       "      <td>-0.000146</td>\n",
       "      <td>-3.063200</td>\n",
       "      <td>0.400000</td>\n",
       "      <td>0.000027</td>\n",
       "    </tr>\n",
       "    <tr>\n",
       "      <th>4</th>\n",
       "      <td>-0.000244</td>\n",
       "      <td>-3.056753</td>\n",
       "      <td>0.500000</td>\n",
       "      <td>0.000033</td>\n",
       "    </tr>\n",
       "    <tr>\n",
       "      <th>5</th>\n",
       "      <td>-0.000293</td>\n",
       "      <td>-3.096555</td>\n",
       "      <td>0.600000</td>\n",
       "      <td>0.000044</td>\n",
       "    </tr>\n",
       "    <tr>\n",
       "      <th>...</th>\n",
       "      <td>...</td>\n",
       "      <td>...</td>\n",
       "      <td>...</td>\n",
       "      <td>...</td>\n",
       "    </tr>\n",
       "    <tr>\n",
       "      <th>2966</th>\n",
       "      <td>-0.247217</td>\n",
       "      <td>-102.089020</td>\n",
       "      <td>296.700012</td>\n",
       "      <td>0.137504</td>\n",
       "    </tr>\n",
       "    <tr>\n",
       "      <th>2967</th>\n",
       "      <td>-0.247266</td>\n",
       "      <td>-101.966217</td>\n",
       "      <td>296.799988</td>\n",
       "      <td>0.137621</td>\n",
       "    </tr>\n",
       "    <tr>\n",
       "      <th>2968</th>\n",
       "      <td>-0.247363</td>\n",
       "      <td>-101.899727</td>\n",
       "      <td>296.899994</td>\n",
       "      <td>0.137750</td>\n",
       "    </tr>\n",
       "    <tr>\n",
       "      <th>2969</th>\n",
       "      <td>-0.247461</td>\n",
       "      <td>-101.833717</td>\n",
       "      <td>297.000000</td>\n",
       "      <td>0.137900</td>\n",
       "    </tr>\n",
       "    <tr>\n",
       "      <th>2970</th>\n",
       "      <td>-0.247559</td>\n",
       "      <td>0.000000</td>\n",
       "      <td>297.100000</td>\n",
       "      <td>0.138050</td>\n",
       "    </tr>\n",
       "  </tbody>\n",
       "</table>\n",
       "<p>2970 rows × 4 columns</p>\n",
       "</div>"
      ],
      "text/plain": [
       "      Crosshead        Load   Time (sec)  Extensometer \n",
       "1      -0.000098   -3.087354    0.200000       0.000012\n",
       "2      -0.000146   -3.070797    0.300000       0.000026\n",
       "3      -0.000146   -3.063200    0.400000       0.000027\n",
       "4      -0.000244   -3.056753    0.500000       0.000033\n",
       "5      -0.000293   -3.096555    0.600000       0.000044\n",
       "...          ...         ...         ...            ...\n",
       "2966   -0.247217 -102.089020  296.700012       0.137504\n",
       "2967   -0.247266 -101.966217  296.799988       0.137621\n",
       "2968   -0.247363 -101.899727  296.899994       0.137750\n",
       "2969   -0.247461 -101.833717  297.000000       0.137900\n",
       "2970   -0.247559    0.000000  297.100000       0.138050\n",
       "\n",
       "[2970 rows x 4 columns]"
      ]
     },
     "execution_count": 79,
     "metadata": {},
     "output_type": "execute_result"
    }
   ],
   "source": [
    "start_line = 6\n",
    "\n",
    "data = pd.read_csv('Thesis_Samples_Data/Test/TestRun11.csv', skiprows=start_line)\n",
    "data = data.drop([0])\n",
    "data"
   ]
  },
  {
   "cell_type": "code",
   "execution_count": 80,
   "metadata": {
    "scrolled": false
   },
   "outputs": [
    {
     "name": "stdout",
     "output_type": "stream",
     "text": [
      "0.0\n"
     ]
    },
    {
     "data": {
      "text/plain": [
       "[<matplotlib.lines.Line2D at 0x273fb6a98e0>]"
      ]
     },
     "execution_count": 80,
     "metadata": {},
     "output_type": "execute_result"
    },
    {
     "data": {
      "image/png": "[encoded data removed]",
      "text/plain": [
       "<Figure size 864x360 with 2 Axes>"
      ]
     },
     "metadata": {
      "needs_background": "light"
     },
     "output_type": "display_data"
    }
   ],
   "source": [
    "# get relevant columns and preprocess\n",
    "crosshead = data.loc[:, 'Crosshead '].to_numpy(dtype=np.double)\n",
    "extenso = data.loc[:, 'Extensometer '].to_numpy(dtype=np.double)\n",
    "load = data.loc[:, 'Load '].to_numpy(dtype=np.double)\n",
    "\n",
    "crosshead = abs(crosshead)\n",
    "\n",
    "min_extenso = np.min(extenso)\n",
    "if (min_extenso < 0):\n",
    "    extenso = extenso + abs(min_extenso)\n",
    "extenso = abs(extenso)\n",
    "\n",
    "load = abs(load)\n",
    "\n",
    "stop_index = 2978 - start_line\n",
    "crosshead = crosshead[0:stop_index]\n",
    "extenso = extenso[0:stop_index]\n",
    "load = load[0:stop_index]\n",
    "\n",
    "print(load[-1])\n",
    "\n",
    "plt.figure(figsize=(12, 5))\n",
    "\n",
    "sub = plt.subplot(1, 2, 1)\n",
    "sub.plot(crosshead, load)\n",
    "\n",
    "sub = plt.subplot(1, 2, 2)\n",
    "sub.plot(extenso, load)"
   ]
  },
  {
   "cell_type": "markdown",
   "metadata": {},
   "source": [
    "### Define Sample Parameters"
   ]
  },
  {
   "cell_type": "code",
   "execution_count": 53,
   "metadata": {},
   "outputs": [],
   "source": [
    "S = 120      # span, mm\n",
    "B = 40   # width, mm\n",
    "B_N = B      # side-groove width, mm\n",
    "W = 40   # thickness, mm\n",
    "a0 = 4   # initial crack length, mm\n",
    "E = 25000    # young's modulous, MPa\n"
   ]
  },
  {
   "cell_type": "markdown",
   "metadata": {},
   "source": [
    "## K<sub>ic</sub> Calculation\n",
    "\n",
    "![title](img/K_ic.png)\n",
    "\n",
    "Where K<sub>(i)</sub> = K<sub>ic</sub>, P<sub>i</sub> = P<sub>max</sub> (the first, highest peak), and \n",
    "![title](img/f_a_W.png)\n",
    "\n",
    "with a<sub>i</sub> = a<sub>0</sub>\n",
    "\n",
    "[From E1820]"
   ]
  },
  {
   "cell_type": "code",
   "execution_count": 54,
   "metadata": {},
   "outputs": [
    {
     "data": {
      "text/plain": [
       "3.4463912625472863"
      ]
     },
     "execution_count": 54,
     "metadata": {},
     "output_type": "execute_result"
    }
   ],
   "source": [
    "a_W = a0/W\n",
    "f_aW = 3*np.sqrt(a_W) * (1.99 - a_W*(1-a_W)*(2.15-3.93*a_W+2.7*a_W**2)) / (2*(1+2*a_W)*np.power(1-a_W, 1.5))\n",
    "\n",
    "P_max = np.max(load)\n",
    "pl_index = np.argmax(load)\n",
    "\n",
    "K_ic = (P_max*S/(np.sqrt(B*B_N)*np.power(W, 1.5))) * f_aW\n",
    "K_ic"
   ]
  },
  {
   "cell_type": "markdown",
   "metadata": {},
   "source": [
    "## J<sub>el</sub> Calculation\n",
    "\n",
    "![title](img/J_el.png)\n",
    "\n",
    "[from Bouville et al]\n",
    "\n",
    "E is the young's modulous, so it must first be calulated from the (roughly) linear region before the first peak:\n",
    "\n",
    "![title](img/modulous.png)\n",
    "\n",
    "![title](img/wikipedia_terms.png)\n",
    "\n",
    "[from Wikipedia]"
   ]
  },
  {
   "cell_type": "code",
   "execution_count": 55,
   "metadata": {},
   "outputs": [
    {
     "name": "stdout",
     "output_type": "stream",
     "text": [
      "808.796013409793\n"
     ]
    },
    {
     "data": {
      "text/plain": [
       "0.00047510450938249117"
      ]
     },
     "execution_count": 55,
     "metadata": {},
     "output_type": "execute_result"
    }
   ],
   "source": [
    "# first find slope of linear load-displacement region\n",
    "num_reg_points = int(pl_index / 5)\n",
    "crosshead_reg = crosshead[pl_index-num_reg_points:pl_index]\n",
    "load_reg = load[pl_index-num_reg_points:pl_index]\n",
    "A = np.vstack([crosshead_reg, np.ones(len(crosshead_reg))]).T\n",
    "m, c = np.linalg.lstsq(A, load_reg, rcond=None)[0]\n",
    "\n",
    "# then calculate E\n",
    "E_reg = (S**3 * m) / (4*B*W**3)\n",
    "print(E_reg)\n",
    "\n",
    "# finally J_el\n",
    "J_el = K_ic**2/E\n",
    "J_el"
   ]
  },
  {
   "cell_type": "code",
   "execution_count": 85,
   "metadata": {},
   "outputs": [
    {
     "data": {
      "text/plain": [
       "[<matplotlib.lines.Line2D at 0x273fb8c1370>]"
      ]
     },
     "execution_count": 85,
     "metadata": {},
     "output_type": "execute_result"
    },
    {
     "data": {
      "image/png": "[encoded data removed]",
      "text/plain": [
       "<Figure size 864x360 with 2 Axes>"
      ]
     },
     "metadata": {
      "needs_background": "light"
     },
     "output_type": "display_data"
    }
   ],
   "source": [
    "# create linearized load-displacement and load-extensometer graphs\n",
    "\n",
    "crosshead_P_max = crosshead[pl_index]\n",
    "\n",
    "# generate new data values where lead-up to peak is linearized\n",
    "crosshead_x_int = crosshead_P_max - (P_max/m)\n",
    "\n",
    "crosshead_P_max = crosshead[pl_index]\n",
    "crosshead_el = np.linspace(0, crosshead_P_max-crosshead_x_int, num=pl_index)\n",
    "load_el = m * np.copy(crosshead_el)\n",
    "\n",
    "# plt.plot(crosshead_el, load_el)\n",
    "\n",
    "crosshead_linearized = np.concatenate((crosshead_el, crosshead_pl-crosshead_x_int))\n",
    "load_linearized = np.concatenate((load_el, load_pl))\n",
    "\n",
    "plt.figure(figsize=(12, 5))\n",
    "\n",
    "sub = plt.subplot(1, 2, 1)\n",
    "sub.plot(crosshead_linearized, load_linearized)\n",
    "\n",
    "sub = plt.subplot(1, 2, 2)\n",
    "sub.plot(extenso, load_linearized)\n"
   ]
  },
  {
   "cell_type": "markdown",
   "metadata": {},
   "source": [
    "## J<sub>pl</sub> Calculation (using crosshead)\n",
    "\n",
    "![title](img/J_pl_Bouville.png)\n",
    "\n",
    "Where A<sub>pl</sub> is the cumulative area under the load-crosshead curve post-peak (after initial max load point) and is calculated using a trapezoidal sum. b = W - a<sub>0</sub>.\n",
    "\n",
    "[from Bouville et al]"
   ]
  },
  {
   "cell_type": "code",
   "execution_count": 57,
   "metadata": {},
   "outputs": [],
   "source": [
    "crosshead_pl = crosshead[pl_index:]\n",
    "extenso_pl = extenso[pl_index:]\n",
    "load_pl = load[pl_index:]\n",
    "\n",
    "n_pl = load_pl.shape[0]\n",
    "A_pl = np.zeros(n_pl)\n",
    "\n",
    "A_pl[0] = 0.5*(load[pl_index]+load[pl_index-1]) * (crosshead[pl_index]-crosshead[pl_index-1])\n",
    "for i in range(1, n_pl):\n",
    "    A_pl[i] = A_pl[i-1] + 0.5*(load_pl[i]+load_pl[i-1]) * (crosshead[i]-crosshead[i-1])\n",
    "    \n",
    "J_pl = 1.9*A_pl/(B*(W-a0))"
   ]
  },
  {
   "cell_type": "markdown",
   "metadata": {},
   "source": [
    "## Crack Length Determination (using crosshead)\n",
    "\n",
    "To plot an R-curve, K<sub>jc</sub> must be plotted against the crack length a<sub>i</sub>:\n",
    "\n",
    "![title](img/crack_length_Bouville.png)\n",
    "\n",
    "with\n",
    "\n",
    "![title](img/C_Bouville.png)\n",
    "\n",
    "where u = crosshead displacement and f = load\n",
    "\n",
    "[from Bouville et al]"
   ]
  },
  {
   "cell_type": "code",
   "execution_count": 75,
   "metadata": {
    "scrolled": true
   },
   "outputs": [],
   "source": [
    "C = np.divide(crosshead_pl, load_pl, where=load_pl!=0)\n",
    "\n",
    "a = np.zeros(n_pl)\n",
    "\n",
    "a[0] = a0\n",
    "for i in range(1, n_pl):\n",
    "    if (C[i] != 0):\n",
    "        a[i] = a[i-1] + 0.5*(W-a[i-1])*((C[i]-C[i-1])/C[i])\n",
    "    else: a[i] = W\n",
    "    "
   ]
  },
  {
   "cell_type": "markdown",
   "metadata": {},
   "source": [
    "## Crack Length Determination (using CMOD)\n",
    "\n",
    "An alternative method, using equations from ASTM E399\n",
    "\n",
    "![title](img/a_E399.png)\n",
    "\n",
    "with\n",
    "\n",
    "![title](img/E_prime.png)"
   ]
  },
  {
   "cell_type": "code",
   "execution_count": 77,
   "metadata": {
    "scrolled": false
   },
   "outputs": [
    {
     "name": "stdout",
     "output_type": "stream",
     "text": [
      "0.0\n",
      "31.327139840520573\n",
      "[ 4.          4.01298615  4.01581095  4.02769955  4.03452195  4.04622459\n",
      "  4.08625729  4.11299039  4.13917906  4.17805562  4.25772191  7.18642041\n",
      "  7.59247541  7.60850992  7.61326313  7.63458914 13.24102922 13.26826186\n",
      " 13.27377579 13.26481275 13.26123862 13.25055475 13.24581481 13.22965565\n",
      " 13.21533779 13.19555844 13.18416624 13.16791512 13.15375141 13.13210801\n",
      " 13.12201826 13.1106588  13.09473222 13.07914142 13.06105807 13.04599092\n",
      " 13.02689453 13.01458717 12.99818794 12.98521426 12.97104033 12.95698573\n",
      " 12.9371274  12.91204876 12.90018768 12.88125011 12.87252345 12.8602218\n",
      " 12.84214125 12.82715777 12.81141381 12.79583619 12.77411289 12.75676791\n",
      " 12.74448232 12.72627093 12.70544996 12.69905731 12.68009711 12.660945\n",
      " 12.64630638 12.63126578 12.61145794 12.59308737 12.58000823 12.56614046\n",
      " 12.54734554 12.53802854 12.52064614 12.50467132 12.49238941 12.4744751\n",
      " 12.45567099 12.44452934 12.42546825 12.42243866 12.40575673 12.38564728\n",
      " 12.37296338 12.35229883 12.34144842 12.32104116 12.30534242 12.28793006\n",
      " 12.27479573 12.26165965 12.24519802 12.22945902 12.21777782 12.19869663\n",
      " 12.18278202 12.16886913 12.14825784 12.1389765  12.12703682 12.10669917\n",
      " 12.09333332 12.07428955 12.06104091 12.04345385 12.02278884 12.01355686\n",
      " 11.99674463 11.97789365 11.96593306 11.94794902 11.93819336 11.9206664\n",
      " 11.90345767 11.88824106 11.8703631  11.85970039 11.84749296 11.82131221\n",
      " 11.8145998  11.80026325 11.78197056 11.77108639 11.75271098 11.74269047\n",
      " 11.72885293 11.71087183 11.701118   11.68311799 11.67432712 11.65485414\n",
      " 11.64174536 11.62766878 11.6057175  11.59451521 11.57839675 11.56864167\n",
      " 11.55054223 11.54008472 11.52296737 11.5095241  11.49220388 11.47721603\n",
      " 11.46793896 11.45121367 11.43913945 11.42837973 11.41122106 11.3955229\n",
      " 11.37729885 11.36439601 11.35033854 11.33287533 11.32237218 11.3113138\n",
      " 11.2932473  11.28226703 11.2676211  11.25395729 11.23828478 11.2221192\n",
      " 11.20726747 11.19450806 11.17948252 11.16918665 11.1525567  11.13941382\n",
      " 11.12290528 11.10434237 11.09682015 11.083136   11.06529769 11.05261969\n",
      " 11.03392261 11.02322909 11.0044481  10.99968451 10.98131865 10.96592494\n",
      " 10.9504675  10.93153775 10.91737854 10.90081087 10.8917209  10.87573762\n",
      " 10.86016405 10.83812525 10.82908127 10.81931073 10.80132652 10.78741788\n",
      " 10.76265991 10.75353469 10.74267104 10.72243075 10.71184436 10.69626771\n",
      " 10.68549329 10.66883926 10.65124835 10.64850903 10.66287846 17.3705305\n",
      " 21.02531031 21.11192708 21.15348848 21.8512325  21.85173106 21.86244413\n",
      " 21.84987627 21.86747296 21.85079694 21.86483421 21.84956149 21.84702269\n",
      " 21.84700815 21.84286169 21.83499116 21.8328838  21.84105749 21.8358301\n",
      " 21.83069377 21.83634126 21.82387522 21.8201472  21.8223869  21.81206019\n",
      " 21.80880174 21.8093916  21.80682194 21.80623173 21.80292807 21.80451663\n",
      " 21.80212313 21.78601455 21.78676773 21.78529906 21.78014789 21.77772225\n",
      " 21.77556781 21.77352291 21.76856638 21.76654922 21.75391152 21.75526735\n",
      " 21.75348972 21.75032098 21.74360563 21.74408439 21.7379324  21.74008246\n",
      " 21.72775818 21.7283855  21.73246943 21.72229634 21.71449486 21.71578962\n",
      " 21.70599235 21.72207308 21.7097564  21.7128695  21.71583765 21.70187586\n",
      " 21.70333005 21.68629442 21.6906398  21.69475911 21.68374024 21.67865466\n",
      " 21.67920872 21.67397755 21.6632466  21.65558398 21.65550752 21.6564903\n",
      " 21.64638139 21.64758104 21.64389544 21.63594452 21.63677341 21.63706878\n",
      " 21.62513496 21.61891523 21.61669247 21.61926096 21.61060865 21.60275197\n",
      " 21.60464362 21.60560547 21.59391354 21.59162222 21.59551885 21.5823886\n",
      " 21.57277647 21.5782368  21.56770141 21.56139027 21.56033996 21.56300208\n",
      " 21.5562303  21.54240801 21.54655793 21.53735719 21.52808219 21.53388877\n",
      " 21.53330777 21.51737052 21.52575663 21.51556437 21.50940737 21.50320623\n",
      " 21.49875152 21.49299674 21.49670743 21.49555584 21.4867479  21.48707095\n",
      " 21.47792161 21.47390081 21.46515559 21.46377419 21.45155616 21.46258187\n",
      " 21.45662902 21.44743452 21.45262115 21.44135301 21.43160495 21.43101337\n",
      " 21.42638729 21.42454648 21.41821019 21.42425547 21.40725211 21.40724666\n",
      " 21.40831035 21.40009905 21.39227814 21.3959672  21.39909785 21.38863062\n",
      " 21.39447711 21.38029767 21.38025831 21.37427446 21.37258534 21.37146698\n",
      " 21.36425006 21.34878391 21.35746395 21.35791112 21.35319084 21.35222191\n",
      " 21.34508458 21.33897646 21.33449443 21.33275171 21.33768216 21.3259614\n",
      " 21.32713231 21.31865054 21.31452941 21.30601936 21.31118623 21.30204416\n",
      " 21.29497803 21.29677882 21.29249934 21.28816588 21.28724804 21.28871193\n",
      " 21.28210198 21.28047122 21.27899524 21.26871503 21.26696628 21.27531439\n",
      " 21.26046857 21.25697336 21.25637733 21.24304852 21.24645707 21.23925336\n",
      " 21.24417359 21.23930584 21.2405491  21.22595959 21.22456903 21.22205786\n",
      " 21.2209788  21.21193675 21.21502095 21.20467334 21.20859212 21.19171538\n",
      " 21.18819168 21.1866965  21.18926147 21.18552065 21.18498424 21.17272435\n",
      " 21.17372662 21.15842618 21.15158921 21.15664231 21.15167388 21.14685205\n",
      " 21.13686586 21.13633596 21.12930116 21.12959901 21.13433466 21.1189615\n",
      " 21.12268623 21.12002194 21.11084038 21.10445467 21.09925363 21.09588149\n",
      " 21.08694534 21.08899898 21.08820993 21.08731558 21.07587481 21.07549889\n",
      " 21.07519275 21.06792963 21.06162704 21.0592167  21.06050417 21.0525998\n",
      " 21.04574016 21.0407786  21.03459903 21.0357875  21.02760169 21.02174088\n",
      " 21.02338096 21.02156195 21.02279608 21.00762779 21.0076071  21.00902209\n",
      " 21.00370905 20.99817297 20.99514601 20.98728189 20.98446478 20.9815367\n",
      " 20.9797837  20.98296412 20.98008441 20.97089893 20.96900578 20.96402322\n",
      " 20.96593978 20.95401641 20.96619247 20.95384551 20.94922651 20.9434957\n",
      " 20.94777159 20.94950227 20.93485153 20.93278732 20.93592321 20.93220349\n",
      " 20.92306253 20.92810113 20.92090005 20.91397631 20.91648666 20.90975109\n",
      " 20.90689072 20.90502341 20.90076415 20.90009154 20.9001635  20.89666983\n",
      " 20.89243463 20.88754169 20.87972259 20.88261712 20.87289002 20.86811038\n",
      " 20.86553046 20.85927717 20.85320004 20.85598248 20.84979452 20.84724332\n",
      " 20.84104043 20.84710133 20.84248844 20.83189835 20.83461239 20.83187567\n",
      " 20.82511601 20.8181071  20.81589155 20.8199347  20.80533937 20.80864935\n",
      " 20.7980732  20.79322273 20.79270449 20.78746234 20.78369801 20.7802533\n",
      " 20.7665706  20.77306692 20.76909782 20.76023306 20.76163043 20.75448459\n",
      " 20.74531571 20.75252575 20.75436815 20.74506321 20.73695546 20.73902418\n",
      " 20.72952605 20.7290551  20.72827035 20.72774047 20.72103137 20.71027167\n",
      " 20.70784048 20.70373748 20.70592468 20.70241317 20.69441641 20.69363179\n",
      " 20.69411936 20.69559964 20.68894249 20.68036402 20.68068991 20.68186507\n",
      " 20.67201103 20.67328083 20.6650676  20.6730397  20.66738394 20.66651023\n",
      " 20.67225472 20.66508668 20.65570058 20.66302351 20.65634988 20.65439064\n",
      " 20.65993058 20.65580273 20.64583838 20.64826088 20.65253126 20.64232889\n",
      " 20.64432106 20.64344412 20.64214646 20.63919716 20.64144704 20.63254517\n",
      " 20.63335077 20.64231657 20.627951   20.63253689 20.6252626  20.63168401\n",
      " 20.63162801 20.62798498 20.63002704 20.63429423 20.63886587 20.64908182\n",
      " 20.64392085 20.65747175 20.66759441 20.6776677  30.33612688]\n",
      "[4.         4.00863424 4.01562383 4.02465672 4.03256955 4.04186566\n",
      " 4.06138857 4.07626792 4.09132615 4.11101081 4.14232206 4.99377102\n",
      " 5.10153097 5.11649079 5.12000237 5.13328013 6.41240804 6.41868885\n",
      " 6.42324994 6.42496811 6.42712242 6.42848866 6.42971134 6.43001105\n",
      " 6.43011751 6.42962677 6.42995772 6.42992914 6.42979272 6.42897597\n",
      " 6.42920867 6.42932002 6.42892066 6.42831559 6.42786574 6.4276598\n",
      " 6.42717897 6.42673346 6.42658621 6.42625096 6.4260594  6.42550142\n",
      " 6.42467369 6.42320257 6.42300669 6.42233534 6.42228743 6.42198018\n",
      " 6.42143491 6.42096953 6.42034202 6.41959902 6.41859657 6.41806768\n",
      " 6.41759185 6.41688351 6.41589544 6.4159318  6.41519047 6.41424478\n",
      " 6.4138089  6.41336199 6.41233    6.41151211 6.41111181 6.41067026\n",
      " 6.40965177 6.40986317 6.40891654 6.40792022 6.40801323 6.40710668\n",
      " 6.40616017 6.40581338 6.40489066 6.40516151 6.40453319 6.40363749\n",
      " 6.4029446  6.40191204 6.40158425 6.40050109 6.39997131 6.39904695\n",
      " 6.39860618 6.39816774 6.39736819 6.39679383 6.3965393  6.39542581\n",
      " 6.39476447 6.39436726 6.39309268 6.39298891 6.39246096 6.39162182\n",
      " 6.39126711 6.38983708 6.38973299 6.38890424 6.38780076 6.38739636\n",
      " 6.3869714  6.38588828 6.38562035 6.38466254 6.38445537 6.38378239\n",
      " 6.38283013 6.38224234 6.38101818 6.38098795 6.38074531 6.3793111\n",
      " 6.37911691 6.37882893 6.37773793 6.37743551 6.37671838 6.37643696\n",
      " 6.37573946 6.3752849  6.37496133 6.37400387 6.37372099 6.37288355\n",
      " 6.3723465  6.37167176 6.37055201 6.37017422 6.36946676 6.36903355\n",
      " 6.36827187 6.36813541 6.36705344 6.36686009 6.36600903 6.36517292\n",
      " 6.36538308 6.36419489 6.36408136 6.36392522 6.36271935 6.36233451\n",
      " 6.3612712  6.36061511 6.3599677  6.35954388 6.3589297  6.35864202\n",
      " 6.35808107 6.35737531 6.35685192 6.35616041 6.35568825 6.35485266\n",
      " 6.35409829 6.35370472 6.35292964 6.35294635 6.35198146 6.35150483\n",
      " 6.35081422 6.34997528 6.34988737 6.34928986 6.34855333 6.34786653\n",
      " 6.34726273 6.34700494 6.34607253 6.34603149 6.34516499 6.34465567\n",
      " 6.34408836 6.34313995 6.34273723 6.34205843 6.34207995 6.34103547\n",
      " 6.34057883 6.33936013 6.33926152 6.3389461  6.33824465 6.33777373\n",
      " 6.33646889 6.33618663 6.33589476 6.33490251 6.33483282 6.33396897\n",
      " 6.33379505 6.3335501  6.33278461 6.333444   6.33625256 7.27184737\n",
      " 7.61150159 7.61896828 7.6239768  7.67523603 7.67684738 7.6780273\n",
      " 7.67805261 7.6794287  7.67892599 7.68011666 7.6796238  7.67981353\n",
      " 7.68006026 7.68014072 7.68000638 7.6801706  7.68083646 7.6808235\n",
      " 7.68082066 7.68130721 7.68088094 7.68086053 7.68116726 7.68088595\n",
      " 7.68092859 7.68107519 7.68125103 7.6814432  7.68143128 7.68171288\n",
      " 7.68175335 7.6810672  7.68130991 7.68141794 7.68124767 7.68137854\n",
      " 7.68142363 7.68144459 7.68136548 7.68137483 7.68090091 7.68115021\n",
      " 7.6812188  7.68115854 7.68112051 7.68127344 7.68103466 7.68136574\n",
      " 7.68088604 7.68110783 7.68140874 7.68111147 7.68084736 7.68104847\n",
      " 7.68071923 7.68171633 7.68120308 7.68146988 7.68182945 7.68124437\n",
      " 7.68140676 7.68076129 7.6811762  7.68155035 7.6810442  7.68096979\n",
      " 7.68117777 7.68092862 7.6805017  7.68023038 7.68034044 7.68060034\n",
      " 7.68016725 7.68044814 7.68029896 7.68013203 7.68025116 7.68038059\n",
      " 7.67994801 7.67974163 7.67980036 7.67997636 7.67978595 7.67944314\n",
      " 7.67965683 7.67981718 7.67937695 7.6793532  7.67964019 7.67914013\n",
      " 7.67881903 7.679186   7.67884868 7.6786069  7.67866641 7.67885824\n",
      " 7.67875097 7.67809992 7.67842538 7.67818455 7.67779549 7.67818988\n",
      " 7.67833939 7.67759614 7.67811015 7.67773986 7.67749482 7.67730541\n",
      " 7.67726546 7.67711301 7.67740111 7.67754166 7.6771845  7.67724656\n",
      " 7.6769579  7.6768769  7.67643132 7.67658472 7.67609181 7.67664758\n",
      " 7.67653263 7.67614137 7.67651588 7.67611653 7.67574642 7.67578704\n",
      " 7.67574634 7.67573734 7.6755777  7.67592213 7.67520104 7.67527031\n",
      " 7.67553301 7.67519474 7.6749085  7.6752522  7.6755777  7.67512024\n",
      " 7.67546644 7.67488508 7.67499351 7.67477782 7.67485045 7.67488961\n",
      " 7.67470523 7.67407473 7.67458716 7.67474703 7.67454419 7.67471285\n",
      " 7.67438466 7.67414588 7.6741708  7.67417479 7.67455646 7.67402992\n",
      " 7.67433249 7.67399917 7.67386497 7.67348394 7.67391623 7.67355659\n",
      " 7.67332447 7.67351916 7.67347691 7.67336495 7.67338699 7.67359911\n",
      " 7.67335679 7.67334092 7.67334926 7.67305006 7.67302807 7.67355842\n",
      " 7.67300142 7.67288222 7.67295904 7.67231517 7.67272301 7.67242264\n",
      " 7.67272361 7.67264088 7.6728608  7.67219161 7.6722813  7.67217465\n",
      " 7.67224472 7.67193702 7.67215092 7.67171331 7.67207532 7.67132171\n",
      " 7.67128805 7.67126566 7.6714665  7.67138933 7.67156651 7.67098561\n",
      " 7.67109825 7.67049614 7.67022433 7.67055899 7.67044822 7.67032473\n",
      " 7.66992899 7.66996617 7.66969278 7.66977081 7.67018795 7.66958967\n",
      " 7.6698041  7.66982111 7.6694585  7.66918091 7.6690773  7.66897523\n",
      " 7.66859834 7.66878875 7.66892381 7.669022   7.66849043 7.66860067\n",
      " 7.66871282 7.6684027  7.66823831 7.66813588 7.66832214 7.66809776\n",
      " 7.66788448 7.66773773 7.66743632 7.66766381 7.66733885 7.66710383\n",
      " 7.66733212 7.66728095 7.6674687  7.66677908 7.66688634 7.66713847\n",
      " 7.66696611 7.66682392 7.66674653 7.66641692 7.66640361 7.66643767\n",
      " 7.66634476 7.66664337 7.66657772 7.66628728 7.66626896 7.66609214\n",
      " 7.66619068 7.6657986  7.66650519 7.6659051  7.66583936 7.66564459\n",
      " 7.66595634 7.6662162  7.66551199 7.66548318 7.66583834 7.66570852\n",
      " 7.66530258 7.66562584 7.66545374 7.66515492 7.66530388 7.66517762\n",
      " 7.66508865 7.66512432 7.66499382 7.66505559 7.6651356  7.66510076\n",
      " 7.66501675 7.66478691 7.66456076 7.66474793 7.66437933 7.66422934\n",
      " 7.66428725 7.66406526 7.66380428 7.66410074 7.66377834 7.66373757\n",
      " 7.66353116 7.66393085 7.66381327 7.66339022 7.66370921 7.66362655\n",
      " 7.66336414 7.66315231 7.6630975  7.66338153 7.66270214 7.66290783\n",
      " 7.6626397  7.66244151 7.66249162 7.66231818 7.66228982 7.66221632\n",
      " 7.66155955 7.66196904 7.66191446 7.66158488 7.66173903 7.66148804\n",
      " 7.66119859 7.66170402 7.66187118 7.66140773 7.66122831 7.66136087\n",
      " 7.66091478 7.66107763 7.66113732 7.66119612 7.66092569 7.66055767\n",
      " 7.66053934 7.66044585 7.66070466 7.66055038 7.66024954 7.66026982\n",
      " 7.66048681 7.66070004 7.66044626 7.66013018 7.66029969 7.66040771\n",
      " 7.65992343 7.66019548 7.65990288 7.66046036 7.66029869 7.66037123\n",
      " 7.66072442 7.66054972 7.66014977 7.66061812 7.66042274 7.66042599\n",
      " 7.66077255 7.66071152 7.66032991 7.66059967 7.66092215 7.66054834\n",
      " 7.66080388 7.66088232 7.66089397 7.66092444 7.66115368 7.66076871\n",
      " 7.66098602 7.66155604 7.66092166 7.66128694 7.66099736 7.66146994\n",
      " 7.66170184 7.66154675 7.66180591 7.66230509 7.66264657 7.66335927\n",
      " 7.66324172 7.66426922 7.66505855 7.66592483 8.67286016]\n"
     ]
    }
   ],
   "source": [
    "B_e = B-((B-B_N)**2)/B\n",
    "\n",
    "U = 1/(1+np.sqrt((E*B_e*extenso_pl*1e1/(load_pl+1e-50))) * 4*W/S)\n",
    "print(load_pl[-1])\n",
    "\n",
    "# a = (a/W)*W\n",
    "\n",
    "a_E399 = W*(1 - 3.950*U + 2.982*np.power(U, 2) - 3.214*np.power(U, 3) + 5.516*np.power(U, 4) - 113.031*np.power(U, 5))\n",
    "\n",
    "offset = abs(a_E399[0] - a0)\n",
    "print(offset)\n",
    "if (a_E399[0] < a0): a_E399 = a_E399 + offset\n",
    "else: a_E399 = a_E399 - offset\n",
    "\n",
    "# compare\n",
    "print(a)\n",
    "print(a_E399)"
   ]
  },
  {
   "cell_type": "markdown",
   "metadata": {},
   "source": [
    "## K<sub>jc</sub> Calculation\n",
    "\n",
    "![title](img/K_jc_Bouville.png)\n",
    "\n",
    "This is an elemnt-wise calculation for plotting during the plastic region. An overall K<sub>jc</sub> can be found by taking the last/maximum value from this array.\n",
    "\n",
    "[from Bouville et al]"
   ]
  },
  {
   "cell_type": "code",
   "execution_count": 43,
   "metadata": {},
   "outputs": [
    {
     "data": {
      "text/plain": [
       "14.941749874930906"
      ]
     },
     "execution_count": 43,
     "metadata": {},
     "output_type": "execute_result"
    }
   ],
   "source": [
    "K_jc = np.sqrt((J_el+J_pl)*E)\n",
    "K_jc_overall = np.max(K_jc)\n",
    "K_jc_overall"
   ]
  },
  {
   "cell_type": "markdown",
   "metadata": {},
   "source": [
    "## Plotting"
   ]
  },
  {
   "cell_type": "code",
   "execution_count": 12,
   "metadata": {},
   "outputs": [
    {
     "data": {
      "text/plain": [
       "[<matplotlib.lines.Line2D at 0x273f9cc07f0>]"
      ]
     },
     "execution_count": 12,
     "metadata": {},
     "output_type": "execute_result"
    },
    {
     "data": {
      "image/png": "[encoded data removed]",
      "text/plain": [
       "<Figure size 432x288 with 1 Axes>"
      ]
     },
     "metadata": {
      "needs_background": "light"
     },
     "output_type": "display_data"
    }
   ],
   "source": [
    "plt.plot(a_E399, K_jc)"
   ]
  },
  {
   "cell_type": "code",
   "execution_count": 13,
   "metadata": {},
   "outputs": [
    {
     "data": {
      "text/plain": [
       "<function matplotlib.pyplot.plot(*args, scalex=True, scaley=True, data=None, **kwargs)>"
      ]
     },
     "execution_count": 13,
     "metadata": {},
     "output_type": "execute_result"
    },
    {
     "data": {
      "image/png": "[encoded data removed]",
      "text/plain": [
       "<Figure size 432x288 with 2 Axes>"
      ]
     },
     "metadata": {
      "needs_background": "light"
     },
     "output_type": "display_data"
    }
   ],
   "source": [
    "fig = plt.figure()\n",
    "ax1 = fig.add_subplot(111)\n",
    "ax1.plot(a)\n",
    "ax1.set_ylabel('a', color='b')\n",
    "\n",
    "ax2 = ax1.twinx()\n",
    "ax2.plot(a_E399, 'r-')\n",
    "ax2.set_ylabel('a_E399', color='r')\n",
    "for tl in ax2.get_yticklabels():\n",
    "    tl.set_color('r')\n",
    "    \n",
    "plt.plot"
   ]
  },
  {
   "cell_type": "code",
   "execution_count": null,
   "metadata": {},
   "outputs": [],
   "source": []
  }
 ],
 "metadata": {
  "kernelspec": {
   "display_name": "fracture_toughness",
   "language": "python",
   "name": "fracture_toughness"
  },
  "language_info": {
   "codemirror_mode": {
    "name": "ipython",
    "version": 3
   },
   "file_extension": ".py",
   "mimetype": "text/x-python",
   "name": "python",
   "nbconvert_exporter": "python",
   "pygments_lexer": "ipython3",
   "version": "3.8.5"
  }
 },
 "nbformat": 4,
 "nbformat_minor": 4
}
