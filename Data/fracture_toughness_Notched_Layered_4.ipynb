{
 "cells": [
  {
   "cell_type": "code",
   "execution_count": 2,
   "metadata": {},
   "outputs": [],
   "source": [
    "import numpy as np\n",
    "import pandas as pd\n",
    "from matplotlib import pyplot as plt"
   ]
  },
  {
   "cell_type": "code",
   "execution_count": 3,
   "metadata": {},
   "outputs": [
    {
     "data": {
      "text/html": [
       "<div>\n",
       "<style scoped>\n",
       "    .dataframe tbody tr th:only-of-type {\n",
       "        vertical-align: middle;\n",
       "    }\n",
       "\n",
       "    .dataframe tbody tr th {\n",
       "        vertical-align: top;\n",
       "    }\n",
       "\n",
       "    .dataframe thead th {\n",
       "        text-align: right;\n",
       "    }\n",
       "</style>\n",
       "<table border=\"1\" class=\"dataframe\">\n",
       "  <thead>\n",
       "    <tr style=\"text-align: right;\">\n",
       "      <th></th>\n",
       "      <th>Crosshead</th>\n",
       "      <th>Load</th>\n",
       "      <th>Time</th>\n",
       "      <th>Extensometer</th>\n",
       "    </tr>\n",
       "  </thead>\n",
       "  <tbody>\n",
       "    <tr>\n",
       "      <th>1</th>\n",
       "      <td>-4.88E-05</td>\n",
       "      <td>-2.018614769</td>\n",
       "      <td>0.108000003</td>\n",
       "      <td>5.40E-05</td>\n",
       "    </tr>\n",
       "    <tr>\n",
       "      <th>2</th>\n",
       "      <td>-4.88E-05</td>\n",
       "      <td>-2.0723176</td>\n",
       "      <td>0.128000006</td>\n",
       "      <td>6.56E-05</td>\n",
       "    </tr>\n",
       "    <tr>\n",
       "      <th>3</th>\n",
       "      <td>-4.88E-05</td>\n",
       "      <td>-2.153599262</td>\n",
       "      <td>0.148000002</td>\n",
       "      <td>5.15E-05</td>\n",
       "    </tr>\n",
       "    <tr>\n",
       "      <th>4</th>\n",
       "      <td>-9.77E-05</td>\n",
       "      <td>-2.028392315</td>\n",
       "      <td>0.167999998</td>\n",
       "      <td>5.39E-05</td>\n",
       "    </tr>\n",
       "    <tr>\n",
       "      <th>5</th>\n",
       "      <td>-9.77E-05</td>\n",
       "      <td>-1.95252347</td>\n",
       "      <td>0.187999994</td>\n",
       "      <td>5.50E-05</td>\n",
       "    </tr>\n",
       "    <tr>\n",
       "      <th>...</th>\n",
       "      <td>...</td>\n",
       "      <td>...</td>\n",
       "      <td>...</td>\n",
       "      <td>...</td>\n",
       "    </tr>\n",
       "    <tr>\n",
       "      <th>41179</th>\n",
       "      <td>-1.647314406</td>\n",
       "      <td>-27.37961578</td>\n",
       "      <td>823.6680298</td>\n",
       "      <td>1.498281141</td>\n",
       "    </tr>\n",
       "    <tr>\n",
       "      <th>41180</th>\n",
       "      <td>-1.647314406</td>\n",
       "      <td>-27.28787804</td>\n",
       "      <td>823.6879883</td>\n",
       "      <td>1.498314668</td>\n",
       "    </tr>\n",
       "    <tr>\n",
       "      <th>41181</th>\n",
       "      <td>-1.6473633</td>\n",
       "      <td>-27.26520538</td>\n",
       "      <td>823.7080078</td>\n",
       "      <td>1.498378348</td>\n",
       "    </tr>\n",
       "    <tr>\n",
       "      <th>41182</th>\n",
       "      <td>-1.647412078</td>\n",
       "      <td>-27.20642662</td>\n",
       "      <td>823.7280273</td>\n",
       "      <td>1.498419908</td>\n",
       "    </tr>\n",
       "    <tr>\n",
       "      <th>41183</th>\n",
       "      <td>-1.647460973</td>\n",
       "      <td>-27.36917496</td>\n",
       "      <td>823.7479858</td>\n",
       "      <td>1.498457277</td>\n",
       "    </tr>\n",
       "  </tbody>\n",
       "</table>\n",
       "<p>41183 rows × 4 columns</p>\n",
       "</div>"
      ],
      "text/plain": [
       "         Crosshead          Load         Time  Extensometer \n",
       "1         -4.88E-05  -2.018614769  0.108000003      5.40E-05\n",
       "2         -4.88E-05    -2.0723176  0.128000006      6.56E-05\n",
       "3         -4.88E-05  -2.153599262  0.148000002      5.15E-05\n",
       "4         -9.77E-05  -2.028392315  0.167999998      5.39E-05\n",
       "5         -9.77E-05   -1.95252347  0.187999994      5.50E-05\n",
       "...             ...           ...          ...           ...\n",
       "41179  -1.647314406  -27.37961578  823.6680298   1.498281141\n",
       "41180  -1.647314406  -27.28787804  823.6879883   1.498314668\n",
       "41181    -1.6473633  -27.26520538  823.7080078   1.498378348\n",
       "41182  -1.647412078  -27.20642662  823.7280273   1.498419908\n",
       "41183  -1.647460973  -27.36917496  823.7479858   1.498457277\n",
       "\n",
       "[41183 rows x 4 columns]"
      ]
     },
     "execution_count": 3,
     "metadata": {},
     "output_type": "execute_result"
    }
   ],
   "source": [
    "start_line = 6\n",
    "\n",
    "data = pd.read_csv('Thesis_Samples_Data/Notched_Layered_4/Notched_Layered_4.csv', skiprows=start_line)\n",
    "data = data.drop([0])\n",
    "data"
   ]
  },
  {
   "cell_type": "code",
   "execution_count": 20,
   "metadata": {},
   "outputs": [
    {
     "name": "stdout",
     "output_type": "stream",
     "text": [
      "32.61036682\n"
     ]
    },
    {
     "data": {
      "text/plain": [
       "[<matplotlib.lines.Line2D at 0x22471130e80>]"
      ]
     },
     "execution_count": 20,
     "metadata": {},
     "output_type": "execute_result"
    },
    {
     "data": {
      "image/png": "[encoded data removed]",
      "text/plain": [
       "<Figure size 864x360 with 2 Axes>"
      ]
     },
     "metadata": {
      "needs_background": "light"
     },
     "output_type": "display_data"
    }
   ],
   "source": [
    "# get relevant columns and preprocess\n",
    "crosshead = data.loc[:, 'Crosshead '].to_numpy(dtype=np.double)\n",
    "extenso = data.loc[:, 'Extensometer '].to_numpy(dtype=np.double)\n",
    "load = data.loc[:, 'Load '].to_numpy(dtype=np.double)\n",
    "\n",
    "crosshead = abs(crosshead)\n",
    "\n",
    "min_extenso = np.min(extenso)\n",
    "if (min_extenso < 0):\n",
    "    extenso = extenso + abs(min_extenso)\n",
    "extenso = abs(extenso)\n",
    "\n",
    "load = abs(load)\n",
    "\n",
    "stop_index = 4100 - start_line\n",
    "crosshead = crosshead[0:stop_index]\n",
    "extenso = extenso[0:stop_index]\n",
    "load = load[0:stop_index]\n",
    "\n",
    "print(load[-1])\n",
    "\n",
    "plt.figure(figsize=(12, 5))\n",
    "plt.subplot(1, 2, 1)\n",
    "plt.plot(crosshead, load)\n",
    "\n",
    "plt.subplot(1, 2, 2)\n",
    "plt.plot(extenso, load)"
   ]
  },
  {
   "cell_type": "markdown",
   "metadata": {},
   "source": [
    "### Define Sample Parameters"
   ]
  },
  {
   "cell_type": "code",
   "execution_count": 6,
   "metadata": {},
   "outputs": [],
   "source": [
    "S = 90      # span, mm\n",
    "B = 40.43   # width, mm\n",
    "B_N = B      # side-groove width, mm\n",
    "W = 23.1   # thickness, mm\n",
    "a0 = 0.75   # initial crack length, mm\n",
    "E = 22500    # young's modulous, MPa\n"
   ]
  },
  {
   "cell_type": "markdown",
   "metadata": {},
   "source": [
    "## K<sub>ic</sub> Calculation\n",
    "\n",
    "![title](img/K_ic.png)\n",
    "\n",
    "Where K<sub>(i)</sub> = K<sub>ic</sub>, P<sub>i</sub> = P<sub>max</sub> (the first, highest peak), and \n",
    "![title](img/f_a_W.png)\n",
    "\n",
    "with a<sub>i</sub> = a<sub>0</sub>\n",
    "\n",
    "[From E1820]"
   ]
  },
  {
   "cell_type": "code",
   "execution_count": 7,
   "metadata": {},
   "outputs": [
    {
     "data": {
      "text/plain": [
       "0.4886003050983669"
      ]
     },
     "execution_count": 7,
     "metadata": {},
     "output_type": "execute_result"
    }
   ],
   "source": [
    "a_W = a0/W\n",
    "f_aW = 3*np.sqrt(a_W) * (1.99 - a_W*(1-a_W)*(2.15-3.93*a_W+2.7*a_W**2)) / (2*(1+2*a_W)*np.power(1-a_W, 1.5))\n",
    "\n",
    "P_max = np.max(load)\n",
    "pl_index = np.argmax(load)\n",
    "\n",
    "K_ic = (P_max*S/(np.sqrt(B*B_N)*np.power(W, 1.5))) * f_aW\n",
    "K_ic"
   ]
  },
  {
   "cell_type": "markdown",
   "metadata": {},
   "source": [
    "## J<sub>el</sub> Calculation\n",
    "\n",
    "![title](img/J_el.png)\n",
    "\n",
    "[from Bouville et al]\n",
    "\n",
    "E is the young's modulous, so it must first be calulated from the (roughly) linear region before the first peak:\n",
    "\n",
    "![title](img/modulous.png)\n",
    "\n",
    "![title](img/wikipedia_terms.png)\n",
    "\n",
    "[from Wikipedia]"
   ]
  },
  {
   "cell_type": "code",
   "execution_count": 8,
   "metadata": {},
   "outputs": [
    {
     "name": "stdout",
     "output_type": "stream",
     "text": [
      "201.05260092486887\n"
     ]
    },
    {
     "data": {
      "text/plain": [
       "0.0011874019885543688"
      ]
     },
     "execution_count": 8,
     "metadata": {},
     "output_type": "execute_result"
    }
   ],
   "source": [
    "# first find slope of linear load-displacement region\n",
    "num_reg_points = int(pl_index / 5)\n",
    "crosshead_reg = crosshead[pl_index-num_reg_points:pl_index]\n",
    "load_reg = load[pl_index-num_reg_points:pl_index]\n",
    "A = np.vstack([crosshead_reg, np.ones(len(crosshead_reg))]).T\n",
    "m, c = np.linalg.lstsq(A, load_reg, rcond=None)[0]\n",
    "\n",
    "# then calculate E\n",
    "E_reg = (S**3 * m) / (4*B*W**3)\n",
    "print(E_reg)\n",
    "\n",
    "# finally J_el\n",
    "J_el = K_ic**2/E_reg\n",
    "J_el"
   ]
  },
  {
   "cell_type": "code",
   "execution_count": 9,
   "metadata": {},
   "outputs": [
    {
     "name": "stdout",
     "output_type": "stream",
     "text": [
      "549.7710156379676\n"
     ]
    },
    {
     "data": {
      "image/png": "[encoded data removed]",
      "text/plain": [
       "<Figure size 432x288 with 1 Axes>"
      ]
     },
     "metadata": {
      "needs_background": "light"
     },
     "output_type": "display_data"
    }
   ],
   "source": [
    "print(m)\n",
    "\n",
    "_ = plt.plot(crosshead_reg, load_reg, 'o', label='Original data', markersize=10)\n",
    "_ = plt.plot(crosshead_reg, m*crosshead_reg + c, 'r', label='Fitted line')\n",
    "_ = plt.legend()\n",
    "plt.show()"
   ]
  },
  {
   "cell_type": "markdown",
   "metadata": {},
   "source": [
    "## J<sub>pl</sub> Calculation (using crosshead)\n",
    "\n",
    "![title](img/J_pl_Bouville.png)\n",
    "\n",
    "Where A<sub>pl</sub> is the cumulative area under the load-crosshead curve post-peak (after initial max load point) and is calculated using a trapezoidal sum. b = W - a<sub>0</sub>.\n",
    "\n",
    "[from Bouville et al]"
   ]
  },
  {
   "cell_type": "code",
   "execution_count": 10,
   "metadata": {},
   "outputs": [],
   "source": [
    "crosshead_pl = crosshead[pl_index:]\n",
    "extenso_pl = extenso[pl_index:]\n",
    "load_pl = load[pl_index:]\n",
    "\n",
    "n_pl = load_pl.shape[0]\n",
    "A_pl = np.zeros(n_pl)\n",
    "\n",
    "A_pl[0] = 0.5*(load[pl_index]+load[pl_index-1]) * (crosshead[pl_index]-crosshead[pl_index-1])\n",
    "for i in range(1, n_pl):\n",
    "    A_pl[i] = A_pl[i-1] + 0.5*(load_pl[i]+load_pl[i-1]) * (crosshead[i]-crosshead[i-1])\n",
    "    \n",
    "J_pl = 1.9*A_pl/(B*(W-a0))"
   ]
  },
  {
   "cell_type": "markdown",
   "metadata": {},
   "source": [
    "## Crack Length Determination (using crosshead)\n",
    "\n",
    "To plot an R-curve, K<sub>jc</sub> must be plotted against the crack length a<sub>i</sub>:\n",
    "\n",
    "![title](img/crack_length_Bouville.png)\n",
    "\n",
    "with\n",
    "\n",
    "![title](img/C_Bouville.png)\n",
    "\n",
    "where u = crosshead displacement and f = load\n",
    "\n",
    "[from Bouville et al]"
   ]
  },
  {
   "cell_type": "code",
   "execution_count": 11,
   "metadata": {},
   "outputs": [],
   "source": [
    "C = np.divide(crosshead_pl, load_pl)\n",
    "\n",
    "a = np.zeros(n_pl)\n",
    "\n",
    "a[0] = a0\n",
    "for i in range(1, n_pl):\n",
    "    a[i] = a[i-1] + 0.5*(W-a[i-1])*((C[i]-C[i-1])/C[i])\n",
    "    "
   ]
  },
  {
   "cell_type": "markdown",
   "metadata": {},
   "source": [
    "## Crack Length Determination (using CMOD)\n",
    "\n",
    "An alternative method, using equations from ASTM E399\n",
    "\n",
    "![title](img/a_E399.png)\n",
    "\n",
    "with\n",
    "\n",
    "![title](img/E_prime.png)"
   ]
  },
  {
   "cell_type": "code",
   "execution_count": 39,
   "metadata": {
    "scrolled": true
   },
   "outputs": [
    {
     "name": "stdout",
     "output_type": "stream",
     "text": [
      "0.08939384772683434\n",
      "[0.75       0.78528848 0.80061114 ... 8.93401641 8.94101456 8.91048472]\n",
      "[ 0.75        0.80376755  0.88536291 ... 16.98602553 16.98866176\n",
      " 16.97664456]\n"
     ]
    }
   ],
   "source": [
    "B_e = B-((B-B_N)**2)/B\n",
    "\n",
    "U = 1/(1+np.sqrt((E_reg*B_e*extenso_pl*1e1/load_pl)) * 4*W/S)\n",
    "\n",
    "# a = (a/W)*W\n",
    "\n",
    "a_E399 = W*(1 - 3.950*U + 2.982*np.power(U, 2) - 3.214*np.power(U, 3) + 5.516*np.power(U, 4) - 113.031*np.power(U, 5))\n",
    "\n",
    "offset = abs(a_E399[0] - a0)\n",
    "print(offset)\n",
    "if (a_E399[0] < a0): a_E399 = a_E399 + offset\n",
    "else: a_E399 = a_E399 - offset\n",
    "\n",
    "# compare\n",
    "print(a)\n",
    "print(a_E399)\n"
   ]
  },
  {
   "cell_type": "markdown",
   "metadata": {},
   "source": [
    "## K<sub>jc</sub> Calculation\n",
    "\n",
    "![title](img/K_jc_Bouville.png)\n",
    "\n",
    "This is an elemnt-wise calculation for plotting during the plastic region. An overall K<sub>jc</sub> can be found by taking the last/maximum value from this array.\n",
    "\n",
    "[from Bouville et al]"
   ]
  },
  {
   "cell_type": "code",
   "execution_count": 40,
   "metadata": {},
   "outputs": [
    {
     "data": {
      "text/plain": [
       "1.064351591498717"
      ]
     },
     "execution_count": 40,
     "metadata": {},
     "output_type": "execute_result"
    }
   ],
   "source": [
    "K_jc = np.sqrt((J_el+J_pl)*E_reg)\n",
    "K_jc_overall = np.max(K_jc)\n",
    "K_jc_overall"
   ]
  },
  {
   "cell_type": "markdown",
   "metadata": {},
   "source": [
    "## Plotting"
   ]
  },
  {
   "cell_type": "code",
   "execution_count": 44,
   "metadata": {},
   "outputs": [
    {
     "data": {
      "text/plain": [
       "[<matplotlib.lines.Line2D at 0x22473b92af0>]"
      ]
     },
     "execution_count": 44,
     "metadata": {},
     "output_type": "execute_result"
    },
    {
     "data": {
      "image/png": "[encoded data removed]",
      "text/plain": [
       "<Figure size 432x288 with 1 Axes>"
      ]
     },
     "metadata": {
      "needs_background": "light"
     },
     "output_type": "display_data"
    }
   ],
   "source": [
    "plt.plot(a_E399, K_jc)"
   ]
  },
  {
   "cell_type": "code",
   "execution_count": 45,
   "metadata": {},
   "outputs": [
    {
     "data": {
      "text/plain": [
       "<function matplotlib.pyplot.plot(*args, scalex=True, scaley=True, data=None, **kwargs)>"
      ]
     },
     "execution_count": 45,
     "metadata": {},
     "output_type": "execute_result"
    },
    {
     "data": {
      "image/png": "[encoded data removed]",
      "text/plain": [
       "<Figure size 432x288 with 2 Axes>"
      ]
     },
     "metadata": {
      "needs_background": "light"
     },
     "output_type": "display_data"
    }
   ],
   "source": [
    "fig = plt.figure()\n",
    "ax1 = fig.add_subplot(111)\n",
    "ax1.plot(a)\n",
    "ax1.set_ylabel('a', color='b')\n",
    "\n",
    "ax2 = ax1.twinx()\n",
    "ax2.plot(a_E399, 'r-')\n",
    "ax2.set_ylabel('a_E399', color='r')\n",
    "for tl in ax2.get_yticklabels():\n",
    "    tl.set_color('r')\n",
    "    \n",
    "plt.plot"
   ]
  },
  {
   "cell_type": "code",
   "execution_count": 46,
   "metadata": {},
   "outputs": [
    {
     "data": {
      "text/plain": [
       "<function matplotlib.pyplot.plot(*args, scalex=True, scaley=True, data=None, **kwargs)>"
      ]
     },
     "execution_count": 46,
     "metadata": {},
     "output_type": "execute_result"
    },
    {
     "data": {
      "image/png": "[encoded data removed]",
      "text/plain": [
       "<Figure size 432x288 with 2 Axes>"
      ]
     },
     "metadata": {
      "needs_background": "light"
     },
     "output_type": "display_data"
    }
   ],
   "source": [
    "fig = plt.figure()\n",
    "ax1 = fig.add_subplot(111)\n",
    "ax1.plot(extenso_pl, a)\n",
    "ax1.set_ylabel('a', color='b')\n",
    "\n",
    "ax2 = ax1.twinx()\n",
    "ax2.plot(extenso_pl, a_E399, 'r-')\n",
    "ax2.set_ylabel('a_E399', color='r')\n",
    "for tl in ax2.get_yticklabels():\n",
    "    tl.set_color('r')\n",
    "    \n",
    "plt.plot"
   ]
  },
  {
   "cell_type": "code",
   "execution_count": null,
   "metadata": {},
   "outputs": [],
   "source": []
  },
  {
   "cell_type": "code",
   "execution_count": null,
   "metadata": {},
   "outputs": [],
   "source": []
  }
 ],
 "metadata": {
  "kernelspec": {
   "display_name": "fracture_toughness",
   "language": "python",
   "name": "fracture_toughness"
  },
  "language_info": {
   "codemirror_mode": {
    "name": "ipython",
    "version": 3
   },
   "file_extension": ".py",
   "mimetype": "text/x-python",
   "name": "python",
   "nbconvert_exporter": "python",
   "pygments_lexer": "ipython3",
   "version": "3.8.5"
  }
 },
 "nbformat": 4,
 "nbformat_minor": 4
}
