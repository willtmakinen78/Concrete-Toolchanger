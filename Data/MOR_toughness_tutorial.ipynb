{
 "cells": [
  {
   "cell_type": "code",
   "execution_count": 2,
   "metadata": {},
   "outputs": [],
   "source": [
    "import numpy as np\n",
    "import pandas as pd\n",
    "from matplotlib import pyplot as plt"
   ]
  },
  {
   "cell_type": "code",
   "execution_count": 3,
   "metadata": {},
   "outputs": [
    {
     "data": {
      "text/html": [
       "<div>\n",
       "<style scoped>\n",
       "    .dataframe tbody tr th:only-of-type {\n",
       "        vertical-align: middle;\n",
       "    }\n",
       "\n",
       "    .dataframe tbody tr th {\n",
       "        vertical-align: top;\n",
       "    }\n",
       "\n",
       "    .dataframe thead th {\n",
       "        text-align: right;\n",
       "    }\n",
       "</style>\n",
       "<table border=\"1\" class=\"dataframe\">\n",
       "  <thead>\n",
       "    <tr style=\"text-align: right;\">\n",
       "      <th></th>\n",
       "      <th>Crosshead</th>\n",
       "      <th>Load</th>\n",
       "      <th>Time</th>\n",
       "    </tr>\n",
       "  </thead>\n",
       "  <tbody>\n",
       "    <tr>\n",
       "      <th>1</th>\n",
       "      <td>0</td>\n",
       "      <td>1.452944875</td>\n",
       "      <td>0.02</td>\n",
       "    </tr>\n",
       "    <tr>\n",
       "      <th>2</th>\n",
       "      <td>4.88E-05</td>\n",
       "      <td>1.545757055</td>\n",
       "      <td>0.039999999</td>\n",
       "    </tr>\n",
       "    <tr>\n",
       "      <th>3</th>\n",
       "      <td>4.88E-05</td>\n",
       "      <td>1.537567496</td>\n",
       "      <td>0.059999999</td>\n",
       "    </tr>\n",
       "    <tr>\n",
       "      <th>4</th>\n",
       "      <td>4.88E-05</td>\n",
       "      <td>1.520975828</td>\n",
       "      <td>0.079999998</td>\n",
       "    </tr>\n",
       "    <tr>\n",
       "      <th>5</th>\n",
       "      <td>4.88E-05</td>\n",
       "      <td>1.463552713</td>\n",
       "      <td>0.100000001</td>\n",
       "    </tr>\n",
       "    <tr>\n",
       "      <th>...</th>\n",
       "      <td>...</td>\n",
       "      <td>...</td>\n",
       "      <td>...</td>\n",
       "    </tr>\n",
       "    <tr>\n",
       "      <th>3315</th>\n",
       "      <td>0.132568355</td>\n",
       "      <td>40.33127213</td>\n",
       "      <td>66.30000305</td>\n",
       "    </tr>\n",
       "    <tr>\n",
       "      <th>3316</th>\n",
       "      <td>0.132617191</td>\n",
       "      <td>40.38057709</td>\n",
       "      <td>66.31999969</td>\n",
       "    </tr>\n",
       "    <tr>\n",
       "      <th>3317</th>\n",
       "      <td>0.132666013</td>\n",
       "      <td>40.46768188</td>\n",
       "      <td>66.33999634</td>\n",
       "    </tr>\n",
       "    <tr>\n",
       "      <th>3318</th>\n",
       "      <td>0.132666013</td>\n",
       "      <td>40.07409668</td>\n",
       "      <td>66.36000061</td>\n",
       "    </tr>\n",
       "    <tr>\n",
       "      <th>3319</th>\n",
       "      <td>0.132714849</td>\n",
       "      <td>39.03699493</td>\n",
       "      <td>66.3710022</td>\n",
       "    </tr>\n",
       "  </tbody>\n",
       "</table>\n",
       "<p>3319 rows × 3 columns</p>\n",
       "</div>"
      ],
      "text/plain": [
       "       Crosshead         Load         Time \n",
       "1               0  1.452944875         0.02\n",
       "2        4.88E-05  1.545757055  0.039999999\n",
       "3        4.88E-05  1.537567496  0.059999999\n",
       "4        4.88E-05  1.520975828  0.079999998\n",
       "5        4.88E-05  1.463552713  0.100000001\n",
       "...           ...          ...          ...\n",
       "3315  0.132568355  40.33127213  66.30000305\n",
       "3316  0.132617191  40.38057709  66.31999969\n",
       "3317  0.132666013  40.46768188  66.33999634\n",
       "3318  0.132666013  40.07409668  66.36000061\n",
       "3319  0.132714849  39.03699493   66.3710022\n",
       "\n",
       "[3319 rows x 3 columns]"
      ]
     },
     "execution_count": 3,
     "metadata": {},
     "output_type": "execute_result"
    }
   ],
   "source": [
    "start_line = 6\n",
    "\n",
    "data = pd.read_csv('Thesis_Samples_Data/Flexural_Solid_2/Flexural_Solid_2.csv', skiprows=start_line)\n",
    "data = data.drop([0])\n",
    "data"
   ]
  },
  {
   "cell_type": "code",
   "execution_count": 4,
   "metadata": {
    "scrolled": false
   },
   "outputs": [
    {
     "name": "stdout",
     "output_type": "stream",
     "text": [
      "39.03699493\n"
     ]
    },
    {
     "data": {
      "text/plain": [
       "[<matplotlib.lines.Line2D at 0x25a4d955610>]"
      ]
     },
     "execution_count": 4,
     "metadata": {},
     "output_type": "execute_result"
    },
    {
     "data": {
      "image/png": "[encoded data removed]",
      "text/plain": [
       "<Figure size 864x360 with 1 Axes>"
      ]
     },
     "metadata": {
      "needs_background": "light"
     },
     "output_type": "display_data"
    }
   ],
   "source": [
    "# get relevant columns and preprocess\n",
    "crosshead = data.loc[:, 'Crosshead '].to_numpy(dtype=np.double)\n",
    "load = data.loc[:, 'Load '].to_numpy(dtype=np.double)\n",
    "\n",
    "crosshead = abs(crosshead)\n",
    "load = abs(load)\n",
    "\n",
    "stop_index = 9919 - start_line\n",
    "load = load[0:stop_index]\n",
    "\n",
    "print(load[-1])\n",
    "\n",
    "plt.figure(figsize=(12, 5))\n",
    "\n",
    "sub = plt.subplot(1, 2, 1)\n",
    "sub.plot(crosshead, load)\n"
   ]
  },
  {
   "cell_type": "markdown",
   "metadata": {},
   "source": [
    "## Define Sample Parameters"
   ]
  },
  {
   "cell_type": "code",
   "execution_count": 5,
   "metadata": {},
   "outputs": [],
   "source": [
    "S = 90      # span, mm\n",
    "B = 39.97      # width, mm\n",
    "W = 26.37# thickness, mm\n",
    "E = 25000    # young's modulous, MPa\n",
    "cement_percent = 1"
   ]
  },
  {
   "cell_type": "markdown",
   "metadata": {},
   "source": [
    "## MOR Calculation\n",
    "\n",
    "![title](img/MOR.png)\n",
    "\n",
    "[from C78]"
   ]
  },
  {
   "cell_type": "code",
   "execution_count": 6,
   "metadata": {},
   "outputs": [
    {
     "data": {
      "text/plain": [
       "1.2866440730202213"
      ]
     },
     "execution_count": 6,
     "metadata": {},
     "output_type": "execute_result"
    }
   ],
   "source": [
    "# find max load and associated index first\n",
    "P_max = np.max(load)\n",
    "pl_index = np.argmax(load)\n",
    "\n",
    "MOR = P_max*S/(B*W**2)\n",
    "MOR_normalized = MOR / cement_percent\n",
    "MOR"
   ]
  },
  {
   "cell_type": "markdown",
   "metadata": {},
   "source": [
    "## Overall Toughness\n",
    "\n",
    "Overall toughness is the area under the load-displacement curve, with the slope leading up to the first peack linearlized."
   ]
  },
  {
   "cell_type": "code",
   "execution_count": 7,
   "metadata": {},
   "outputs": [
    {
     "data": {
      "text/plain": [
       "[<matplotlib.lines.Line2D at 0x25a4db76a60>]"
      ]
     },
     "execution_count": 7,
     "metadata": {},
     "output_type": "execute_result"
    },
    {
     "data": {
      "image/png": "[encoded data removed]",
      "text/plain": [
       "<Figure size 432x288 with 1 Axes>"
      ]
     },
     "metadata": {
      "needs_background": "light"
     },
     "output_type": "display_data"
    }
   ],
   "source": [
    "# Find pre-peak slope\n",
    "num_reg_points = int(pl_index / 5)\n",
    "crosshead_reg = crosshead[pl_index-num_reg_points:pl_index]\n",
    "load_reg = load[pl_index-num_reg_points:pl_index]\n",
    "A = np.vstack([crosshead_reg, np.ones(len(crosshead_reg))]).T\n",
    "m, c = np.linalg.lstsq(A, load_reg, rcond=None)[0]\n",
    "\n",
    "# crop data into post-peak region\n",
    "crosshead_pl = crosshead[pl_index:]\n",
    "load_pl = load[pl_index:]\n",
    "\n",
    "crosshead_P_max = crosshead[pl_index]\n",
    "\n",
    "# generate new data values where lead-up to peak is linearized\n",
    "x_int = crosshead_P_max - (P_max/m)\n",
    "\n",
    "crosshead_P_max = crosshead[pl_index]\n",
    "crosshead_el = np.linspace(0, crosshead_P_max-x_int, num=pl_index)\n",
    "load_el = m * np.copy(crosshead_el)\n",
    "\n",
    "# plt.plot(crosshead_el, load_el)\n",
    "\n",
    "crosshead_linearized = np.concatenate((crosshead_el, crosshead_pl-x_int))\n",
    "load_linearized = np.concatenate((load_el, load_pl))\n",
    "plt.plot(crosshead_linearized, load_linearized)"
   ]
  },
  {
   "cell_type": "code",
   "execution_count": 8,
   "metadata": {},
   "outputs": [
    {
     "data": {
      "text/plain": [
       "17.414980453262658"
      ]
     },
     "execution_count": 8,
     "metadata": {},
     "output_type": "execute_result"
    }
   ],
   "source": [
    "# now integrate under linearized load-displacement curve\n",
    "toughness_overall = np.trapz(load_linearized, x=crosshead_linearized)\n",
    "toughness_overall_normalized = toughness_overall / cement_percent\n",
    "toughness_overall"
   ]
  },
  {
   "cell_type": "markdown",
   "metadata": {},
   "source": [
    "## Stress-Based Toughness\n",
    "\n",
    "Find toughness by finding the area under the displacement-stress curve, where stress is defined as\n",
    "\n",
    "![title](img/stress.png)\n",
    "\n",
    "![title](img/stress_constants.png)\n",
    "\n",
    "\n",
    "[from Wikepedia]"
   ]
  },
  {
   "cell_type": "code",
   "execution_count": 9,
   "metadata": {},
   "outputs": [
    {
     "name": "stdout",
     "output_type": "stream",
     "text": [
      "0.0845867525727419\n"
     ]
    },
    {
     "data": {
      "text/plain": [
       "[<matplotlib.lines.Line2D at 0x25a4dbe3a90>]"
      ]
     },
     "execution_count": 9,
     "metadata": {},
     "output_type": "execute_result"
    },
    {
     "data": {
      "image/png": "[encoded data removed]",
      "text/plain": [
       "<Figure size 432x288 with 1 Axes>"
      ]
     },
     "metadata": {
      "needs_background": "light"
     },
     "output_type": "display_data"
    }
   ],
   "source": [
    "stress_linearized = 3*load_linearized*S/(2*B*W**2)\n",
    "\n",
    "toughness_stress = np.trapz(stress_linearized, x=crosshead_linearized)\n",
    "toughness_stress_normalized = toughness_stress / cement_percent\n",
    "\n",
    "print(toughness_stress)\n",
    "\n",
    "plt.plot(crosshead_linearized, stress_linearized)"
   ]
  },
  {
   "cell_type": "code",
   "execution_count": null,
   "metadata": {},
   "outputs": [],
   "source": []
  }
 ],
 "metadata": {
  "kernelspec": {
   "display_name": "fracture_toughness",
   "language": "python",
   "name": "fracture_toughness"
  },
  "language_info": {
   "codemirror_mode": {
    "name": "ipython",
    "version": 3
   },
   "file_extension": ".py",
   "mimetype": "text/x-python",
   "name": "python",
   "nbconvert_exporter": "python",
   "pygments_lexer": "ipython3",
   "version": "3.8.5"
  }
 },
 "nbformat": 4,
 "nbformat_minor": 4
}
