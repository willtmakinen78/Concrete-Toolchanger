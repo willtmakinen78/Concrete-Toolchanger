{
 "cells": [
  {
   "cell_type": "code",
   "execution_count": 1,
   "metadata": {},
   "outputs": [],
   "source": [
    "import numpy as np\n",
    "import pandas as pd\n",
    "from matplotlib import pyplot as plt"
   ]
  },
  {
   "cell_type": "code",
   "execution_count": 2,
   "metadata": {},
   "outputs": [
    {
     "data": {
      "text/html": [
       "<div>\n",
       "<style scoped>\n",
       "    .dataframe tbody tr th:only-of-type {\n",
       "        vertical-align: middle;\n",
       "    }\n",
       "\n",
       "    .dataframe tbody tr th {\n",
       "        vertical-align: top;\n",
       "    }\n",
       "\n",
       "    .dataframe thead th {\n",
       "        text-align: right;\n",
       "    }\n",
       "</style>\n",
       "<table border=\"1\" class=\"dataframe\">\n",
       "  <thead>\n",
       "    <tr style=\"text-align: right;\">\n",
       "      <th></th>\n",
       "      <th>Crosshead</th>\n",
       "      <th>Load</th>\n",
       "      <th>Time</th>\n",
       "      <th>Extensometer</th>\n",
       "    </tr>\n",
       "  </thead>\n",
       "  <tbody>\n",
       "    <tr>\n",
       "      <th>1</th>\n",
       "      <td>0</td>\n",
       "      <td>-0.299609661</td>\n",
       "      <td>0.02</td>\n",
       "      <td>-6.75E-05</td>\n",
       "    </tr>\n",
       "    <tr>\n",
       "      <th>2</th>\n",
       "      <td>0</td>\n",
       "      <td>-0.387948692</td>\n",
       "      <td>0.039999999</td>\n",
       "      <td>-7.05E-05</td>\n",
       "    </tr>\n",
       "    <tr>\n",
       "      <th>3</th>\n",
       "      <td>0</td>\n",
       "      <td>-0.349657714</td>\n",
       "      <td>0.059999999</td>\n",
       "      <td>-6.78E-05</td>\n",
       "    </tr>\n",
       "    <tr>\n",
       "      <th>4</th>\n",
       "      <td>0</td>\n",
       "      <td>-0.204922199</td>\n",
       "      <td>0.079999998</td>\n",
       "      <td>-7.15E-05</td>\n",
       "    </tr>\n",
       "    <tr>\n",
       "      <th>5</th>\n",
       "      <td>-4.88E-05</td>\n",
       "      <td>-0.256271869</td>\n",
       "      <td>0.100000001</td>\n",
       "      <td>-6.95E-05</td>\n",
       "    </tr>\n",
       "    <tr>\n",
       "      <th>...</th>\n",
       "      <td>...</td>\n",
       "      <td>...</td>\n",
       "      <td>...</td>\n",
       "      <td>...</td>\n",
       "    </tr>\n",
       "    <tr>\n",
       "      <th>2017</th>\n",
       "      <td>-0.067236331</td>\n",
       "      <td>0.518726945</td>\n",
       "      <td>40.34000015</td>\n",
       "      <td>0.687413209</td>\n",
       "    </tr>\n",
       "    <tr>\n",
       "      <th>2018</th>\n",
       "      <td>-0.067285153</td>\n",
       "      <td>0.494915277</td>\n",
       "      <td>40.36000061</td>\n",
       "      <td>0.687405409</td>\n",
       "    </tr>\n",
       "    <tr>\n",
       "      <th>2019</th>\n",
       "      <td>-0.067333982</td>\n",
       "      <td>0.499047458</td>\n",
       "      <td>40.38000107</td>\n",
       "      <td>0.687415712</td>\n",
       "    </tr>\n",
       "    <tr>\n",
       "      <th>2020</th>\n",
       "      <td>-0.067333982</td>\n",
       "      <td>0.399697721</td>\n",
       "      <td>40.40000153</td>\n",
       "      <td>0.687425258</td>\n",
       "    </tr>\n",
       "    <tr>\n",
       "      <th>2021</th>\n",
       "      <td>-0.067382811</td>\n",
       "      <td>0.387596428</td>\n",
       "      <td>40.41999817</td>\n",
       "      <td>0.687421649</td>\n",
       "    </tr>\n",
       "  </tbody>\n",
       "</table>\n",
       "<p>2021 rows × 4 columns</p>\n",
       "</div>"
      ],
      "text/plain": [
       "        Crosshead          Load         Time  Extensometer \n",
       "1                0  -0.299609661         0.02     -6.75E-05\n",
       "2                0  -0.387948692  0.039999999     -7.05E-05\n",
       "3                0  -0.349657714  0.059999999     -6.78E-05\n",
       "4                0  -0.204922199  0.079999998     -7.15E-05\n",
       "5        -4.88E-05  -0.256271869  0.100000001     -6.95E-05\n",
       "...            ...           ...          ...           ...\n",
       "2017  -0.067236331   0.518726945  40.34000015   0.687413209\n",
       "2018  -0.067285153   0.494915277  40.36000061   0.687405409\n",
       "2019  -0.067333982   0.499047458  40.38000107   0.687415712\n",
       "2020  -0.067333982   0.399697721  40.40000153   0.687425258\n",
       "2021  -0.067382811   0.387596428  40.41999817   0.687421649\n",
       "\n",
       "[2021 rows x 4 columns]"
      ]
     },
     "execution_count": 2,
     "metadata": {},
     "output_type": "execute_result"
    }
   ],
   "source": [
    "start_line = 6\n",
    "\n",
    "data = pd.read_csv('Thesis_Samples_Data/Notched_Cast_6/Notched_Cast_6.csv', skiprows=start_line)\n",
    "data = data.drop([0])\n",
    "data"
   ]
  },
  {
   "cell_type": "code",
   "execution_count": 3,
   "metadata": {
    "scrolled": false
   },
   "outputs": [
    {
     "name": "stdout",
     "output_type": "stream",
     "text": [
      "17.27143288\n"
     ]
    },
    {
     "data": {
      "text/plain": [
       "[<matplotlib.lines.Line2D at 0x25d4c0ddfd0>]"
      ]
     },
     "execution_count": 3,
     "metadata": {},
     "output_type": "execute_result"
    },
    {
     "data": {
      "image/png": "[encoded data removed]",
      "text/plain": [
       "<Figure size 864x360 with 2 Axes>"
      ]
     },
     "metadata": {
      "needs_background": "light"
     },
     "output_type": "display_data"
    }
   ],
   "source": [
    "# get relevant columns and preprocess\n",
    "crosshead = data.loc[:, 'Crosshead '].to_numpy(dtype=np.double)\n",
    "extenso = data.loc[:, 'Extensometer '].to_numpy(dtype=np.double)\n",
    "load = data.loc[:, 'Load '].to_numpy(dtype=np.double)\n",
    "\n",
    "crosshead = abs(crosshead)\n",
    "\n",
    "min_extenso = np.min(extenso)\n",
    "if (min_extenso < 0):\n",
    "    extenso = extenso + abs(min_extenso)\n",
    "extenso = abs(extenso)\n",
    "\n",
    "load = abs(load)\n",
    "\n",
    "stop_index = 1903 - start_line\n",
    "crosshead = crosshead[0:stop_index]\n",
    "extenso = extenso[0:stop_index]\n",
    "load = load[0:stop_index]\n",
    "\n",
    "print(load[-1])\n",
    "\n",
    "plt.figure(figsize=(12, 5))\n",
    "plt.subplot(1, 2, 1)\n",
    "plt.plot(crosshead, load)\n",
    "\n",
    "plt.subplot(1, 2, 2)\n",
    "plt.plot(extenso, load)"
   ]
  },
  {
   "cell_type": "markdown",
   "metadata": {},
   "source": [
    "### Define Sample Parameters"
   ]
  },
  {
   "cell_type": "code",
   "execution_count": 4,
   "metadata": {},
   "outputs": [],
   "source": [
    "S = 90      # span, mm\n",
    "B = 32.35   # width, mm\n",
    "B_N = B      # side-groove width, mm\n",
    "W = 26.15   # thickness, mm\n",
    "a0 = 0.75   # initial crack length, mm\n",
    "E = 22500    # young's modulous, MPa\n"
   ]
  },
  {
   "cell_type": "markdown",
   "metadata": {},
   "source": [
    "## K<sub>ic</sub> Calculation\n",
    "\n",
    "![title](img/K_ic.png)\n",
    "\n",
    "Where K<sub>(i)</sub> = K<sub>ic</sub>, P<sub>i</sub> = P<sub>max</sub> (the first, highest peak), and \n",
    "![title](img/f_a_W.png)\n",
    "\n",
    "with a<sub>i</sub> = a<sub>0</sub>\n",
    "\n",
    "[From E1820]"
   ]
  },
  {
   "cell_type": "code",
   "execution_count": 13,
   "metadata": {},
   "outputs": [
    {
     "data": {
      "text/plain": [
       "2.004390671848772"
      ]
     },
     "execution_count": 13,
     "metadata": {},
     "output_type": "execute_result"
    }
   ],
   "source": [
    "a_W = a0/W\n",
    "f_aW = 3*np.sqrt(a_W) * (1.99 - a_W*(1-a_W)*(2.15-3.93*a_W+2.7*a_W**2)) / (2*(1+2*a_W)*np.power(1-a_W, 1.5))\n",
    "\n",
    "P_max = np.max(load)\n",
    "pl_index = np.argmax(load)\n",
    "\n",
    "K_ic = (P_max*S/(np.sqrt(B*B_N)*np.power(W, 1.5))) * f_aW\n",
    "K_ic"
   ]
  },
  {
   "cell_type": "markdown",
   "metadata": {},
   "source": [
    "## J<sub>el</sub> Calculation\n",
    "\n",
    "![title](img/J_el.png)\n",
    "\n",
    "[from Bouville et al]\n",
    "\n",
    "E is the young's modulous, so it must first be calulated from the (roughly) linear region before the first peak:\n",
    "\n",
    "![title](img/modulous.png)\n",
    "\n",
    "![title](img/wikipedia_terms.png)\n",
    "\n",
    "[from Wikipedia]"
   ]
  },
  {
   "cell_type": "code",
   "execution_count": 63,
   "metadata": {},
   "outputs": [
    {
     "name": "stdout",
     "output_type": "stream",
     "text": [
      "1777.0774180326234\n"
     ]
    },
    {
     "data": {
      "text/plain": [
       "0.00226078049533834"
      ]
     },
     "execution_count": 63,
     "metadata": {},
     "output_type": "execute_result"
    }
   ],
   "source": [
    "# first find slope of linear load-displacement region\n",
    "num_reg_points = int(pl_index / 5)\n",
    "crosshead_reg = crosshead[pl_index-num_reg_points:pl_index]\n",
    "load_reg = load[pl_index-num_reg_points:pl_index]\n",
    "A = np.vstack([crosshead_reg, np.ones(len(crosshead_reg))]).T\n",
    "m, c = np.linalg.lstsq(A, load_reg, rcond=None)[0]\n",
    "\n",
    "# then calculate E\n",
    "E_reg = (S**3 * m) / (4*B*W**3)\n",
    "print(E_reg)\n",
    "\n",
    "# finally J_el\n",
    "J_el = K_ic**2/E_reg\n",
    "J_el"
   ]
  },
  {
   "cell_type": "code",
   "execution_count": 64,
   "metadata": {},
   "outputs": [
    {
     "name": "stdout",
     "output_type": "stream",
     "text": [
      "5640.637311032226\n"
     ]
    },
    {
     "data": {
      "image/png": "[encoded data removed]",
      "text/plain": [
       "<Figure size 432x288 with 1 Axes>"
      ]
     },
     "metadata": {
      "needs_background": "light"
     },
     "output_type": "display_data"
    }
   ],
   "source": [
    "print(m)\n",
    "\n",
    "_ = plt.plot(crosshead_reg, load_reg, 'o', label='Original data', markersize=10)\n",
    "_ = plt.plot(crosshead_reg, m*crosshead_reg + c, 'r', label='Fitted line')\n",
    "_ = plt.legend()\n",
    "plt.show()"
   ]
  },
  {
   "cell_type": "markdown",
   "metadata": {},
   "source": [
    "## J<sub>pl</sub> Calculation (using crosshead)\n",
    "\n",
    "![title](img/J_pl_Bouville.png)\n",
    "\n",
    "Where A<sub>pl</sub> is the cumulative area under the load-crosshead curve post-peak (after initial max load point) and is calculated using a trapezoidal sum. b = W - a<sub>0</sub>.\n",
    "\n",
    "[from Bouville et al]"
   ]
  },
  {
   "cell_type": "code",
   "execution_count": 15,
   "metadata": {},
   "outputs": [],
   "source": [
    "crosshead_pl = crosshead[pl_index:]\n",
    "extenso_pl = extenso[pl_index:]\n",
    "load_pl = load[pl_index:]\n",
    "\n",
    "n_pl = load_pl.shape[0]\n",
    "A_pl = np.zeros(n_pl)\n",
    "\n",
    "A_pl[0] = 0.5*(load[pl_index]+load[pl_index-1]) * (crosshead[pl_index]-crosshead[pl_index-1])\n",
    "for i in range(1, n_pl):\n",
    "    A_pl[i] = A_pl[i-1] + 0.5*(load_pl[i]+load_pl[i-1]) * (crosshead[i]-crosshead[i-1])\n",
    "    \n",
    "J_pl = 1.9*A_pl/(B*(W-a0))"
   ]
  },
  {
   "cell_type": "markdown",
   "metadata": {},
   "source": [
    "## Crack Length Determination (using crosshead)\n",
    "\n",
    "To plot an R-curve, K<sub>jc</sub> must be plotted against the crack length a<sub>i</sub>:\n",
    "\n",
    "![title](img/crack_length_Bouville.png)\n",
    "\n",
    "with\n",
    "\n",
    "![title](img/C_Bouville.png)\n",
    "\n",
    "where u = crosshead displacement and f = load\n",
    "\n",
    "[from Bouville et al]"
   ]
  },
  {
   "cell_type": "code",
   "execution_count": 66,
   "metadata": {},
   "outputs": [],
   "source": [
    "C = np.divide(crosshead_pl, load_pl)\n",
    "\n",
    "a = np.zeros(n_pl)\n",
    "\n",
    "a[0] = a0\n",
    "for i in range(1, n_pl):\n",
    "    a[i] = a[i-1] + 0.5*(W-a[i-1])*((C[i]-C[i-1])/C[i])\n",
    "    "
   ]
  },
  {
   "cell_type": "markdown",
   "metadata": {},
   "source": [
    "## Crack Length Determination (using CMOD)\n",
    "\n",
    "An alternative method, using equations from ASTM E399\n",
    "\n",
    "![title](img/a_E399.png)\n",
    "\n",
    "with\n",
    "\n",
    "![title](img/E_prime.png)"
   ]
  },
  {
   "cell_type": "code",
   "execution_count": 76,
   "metadata": {
    "scrolled": true
   },
   "outputs": [
    {
     "name": "stdout",
     "output_type": "stream",
     "text": [
      "9.868037990393535\n",
      "[ 0.75        0.77006181  0.78828567  0.78098964  0.80177286  0.82199161\n",
      "  0.83121291  0.85824481  0.87092657  0.87987868  0.89322441  0.92897382\n",
      "  0.95267266  0.98168546  1.00318689  1.01426915  1.04806196  1.07897169\n",
      "  1.09835977  1.11859482  1.14841108  1.17186073  1.19687032  1.23751896\n",
      "  1.25478826  1.29005935  1.35173876  1.39012687  1.44633633  1.49438161\n",
      "  1.56178645  1.61879049  1.67451166  1.74865512  1.80041543  1.87120084\n",
      "  1.96882928  2.06517589  2.20268112  2.45514778  2.8825082   3.2658807\n",
      "  3.57437084  4.059872    4.4062263   4.70411001  4.9688429   5.16927667\n",
      "  5.32827651  5.44161074  5.53607872  5.64480534  5.77626822  5.88336603\n",
      "  5.94582177  6.00324002  6.06530562  6.12324037  6.17855674  6.23251758\n",
      "  6.27750975  6.30034579  6.3584727   6.39813937  6.42048177  6.45267849\n",
      "  6.48372453  6.53705741  6.56128897  6.57848022  6.61175072  6.61904904\n",
      "  6.6489926   6.68567189  6.69981025  6.70646865  6.72356554  6.75701825\n",
      "  6.78287818  6.78494297  6.78850312  6.81882301  6.82734408  6.85181429\n",
      "  6.86984665  6.85599378  6.87763352  6.89518155  6.89648988  6.90468894\n",
      "  6.90164875  6.89646132  6.91947001  6.93915601  6.94527007  6.95219633\n",
      "  6.94950952  6.96782465  6.99017113  6.996541    7.00264378  7.01667192\n",
      "  7.03147389  7.05619488  7.07506186  7.07254847  7.081592    7.10905498\n",
      "  7.12028781  7.13663407  7.14572965  7.14677836  7.17922301  7.2058517\n",
      "  7.21393178  7.22070026  7.23237783  7.25222594  7.27830329  7.29942792\n",
      "  7.29694623  7.30802254  7.32437424  7.34877798  7.35795227  7.37461838\n",
      "  7.37737572  7.38762286  7.42112809  7.4304761   7.42965875  7.45980376\n",
      "  7.46812757  7.47618927  7.49712787  7.50741991  7.50383915  7.51594779\n",
      "  7.53503367  7.54396457  7.55394223  7.56229412  7.56449146  7.58486163\n",
      "  7.61633181  7.60919208  7.61091494  7.62841472  7.64638884  7.66089998\n",
      "  7.67130465  7.6671075   7.69270803  7.70866137  7.72687869  7.74240278\n",
      "  7.74740851  7.7689546   7.79167731  7.8059848   7.8220273   7.84005532\n",
      "  7.85069374  7.87914529  7.91579211  7.91981911  7.92863143  7.95681094\n",
      "  7.97678463  8.01288632  8.03359811  8.06457298  8.11364106  8.18158488\n",
      "  8.26411686  8.3725124   8.50724853  8.63472597  8.76576344  8.90414594\n",
      "  9.05066567  9.22949141  9.40816619  9.59035002  9.82478947 10.12031684\n",
      " 10.46357872 10.80549573 11.02524453 11.25269041 11.4424668  11.63509461\n",
      " 11.92866149 12.35498078 12.83987273 13.33718753 13.91227841 14.55203776\n",
      " 15.63338222 18.4418988 ]\n",
      "[ 0.75        0.78249827  0.81058734  0.84671413  0.89314402  0.93969013\n",
      "  0.97463927  1.01917297  1.06347864  1.12029556  1.16392042  1.232247\n",
      "  1.28721304  1.34784072  1.40895195  1.45936449  1.51838862  1.55987159\n",
      "  1.62593313  1.68597068  1.73896293  1.79009827  1.84036088  1.91001113\n",
      "  1.98150253  2.05923622  2.15287437  2.24728339  2.34165486  2.45275238\n",
      "  2.55029606  2.6616417   2.74813376  2.86459531  2.98029494  3.09490997\n",
      "  3.22745792  3.35989435  3.54745283  3.86786905  4.38252791  4.79427156\n",
      "  5.13217622  5.63489548  5.97437933  6.25869936  6.51327507  6.69276888\n",
      "  6.83267322  6.93641161  7.03423145  7.13403458  7.23838643  7.33238915\n",
      "  7.3983133   7.44815401  7.50416109  7.5517506   7.6004836   7.64414379\n",
      "  7.68449175  7.7165436   7.7550683   7.79117547  7.82179696  7.85073764\n",
      "  7.88053976  7.91466286  7.94029386  7.95910846  7.98651546  8.00076916\n",
      "  8.02351502  8.04684506  8.06554179  8.08376024  8.09827582  8.11945345\n",
      "  8.13921655  8.15115526  8.16308881  8.18357138  8.19585622  8.21223497\n",
      "  8.22691235  8.23301347  8.24597274  8.25701686  8.26513789  8.27510621\n",
      "  8.2784404   8.28141872  8.29763113  8.3086767   8.31766003  8.3268071\n",
      "  8.332534    8.34424455  8.35796748  8.36912252  8.37857386  8.38938635\n",
      "  8.40327989  8.41661268  8.43072453  8.44129143  8.45022257  8.46687292\n",
      "  8.47802327  8.49112997  8.50107686  8.51065093  8.52679701  8.54398446\n",
      "  8.55652853  8.56679232  8.57770661  8.59567114  8.6073736   8.62314157\n",
      "  8.63223161  8.64103436  8.65249106  8.66921465  8.67889199  8.69203205\n",
      "  8.70165461  8.71038253  8.72638927  8.74060416  8.74792129  8.76365659\n",
      "  8.77300211  8.78266543  8.79525487  8.80238254  8.81069536  8.8185621\n",
      "  8.82832589  8.83923252  8.84745065  8.85629816  8.86323456  8.87485909\n",
      "  8.89005339  8.89685112  8.90072731  8.91392896  8.92355803  8.93183899\n",
      "  8.94370427  8.94836957  8.96045683  8.9746558   8.98498142  8.99697149\n",
      "  9.00775824  9.02009484  9.03262062  9.04718294  9.05718657  9.06961359\n",
      "  9.08206408  9.09821048  9.11713509  9.12776066  9.13894797  9.15287186\n",
      "  9.16830225  9.18825251  9.20812892  9.23055024  9.25764339  9.29768496\n",
      "  9.34544585  9.41198195  9.49599177  9.57242745  9.64716194  9.72967238\n",
      "  9.81862262  9.91941665 10.02927515 10.13077162 10.26149692 10.42903076\n",
      " 10.6185278  10.80847303 10.92627916 11.04374322 11.14780334 11.24927009\n",
      " 11.3937379  11.60762617 11.83807681 12.06958994 12.32493193 12.59922011\n",
      " 13.0504857  14.38539639]\n"
     ]
    }
   ],
   "source": [
    "B_e = B-((B-B_N)**2)/B\n",
    "\n",
    "U = 1/(1+np.sqrt((E_reg*B_e*extenso_pl*1e1/load_pl)) * 4*W/S)\n",
    "\n",
    "# a = (a/W)*W\n",
    "\n",
    "a_E399 = W*(1 - 3.950*U + 2.982*np.power(U, 2) - 3.214*np.power(U, 3) + 5.516*np.power(U, 4) - 113.031*np.power(U, 5))\n",
    "\n",
    "offset = abs(a_E399[0] - a0)\n",
    "print(offset)\n",
    "if (a_E399[0] < a0): a_E399 = a_E399 + offset\n",
    "else: a_E399 = a_E399 - offset\n",
    "\n",
    "# compare\n",
    "print(a)\n",
    "print(a_E399)"
   ]
  },
  {
   "cell_type": "markdown",
   "metadata": {},
   "source": [
    "## K<sub>jc</sub> Calculation\n",
    "\n",
    "![title](img/K_jc_Bouville.png)\n",
    "\n",
    "This is an elemnt-wise calculation for plotting during the plastic region. An overall K<sub>jc</sub> can be found by taking the last/maximum value from this array.\n",
    "\n",
    "[from Bouville et al]"
   ]
  },
  {
   "cell_type": "code",
   "execution_count": 77,
   "metadata": {},
   "outputs": [
    {
     "data": {
      "text/plain": [
       "2.7361670364590522"
      ]
     },
     "execution_count": 77,
     "metadata": {},
     "output_type": "execute_result"
    }
   ],
   "source": [
    "K_jc = np.sqrt((J_el+J_pl)*E_reg)\n",
    "K_jc_overall = np.max(K_jc)\n",
    "K_jc_overall"
   ]
  },
  {
   "cell_type": "markdown",
   "metadata": {},
   "source": [
    "## Plotting"
   ]
  },
  {
   "cell_type": "code",
   "execution_count": 78,
   "metadata": {},
   "outputs": [
    {
     "data": {
      "text/plain": [
       "[<matplotlib.lines.Line2D at 0x1a99d4f3280>]"
      ]
     },
     "execution_count": 78,
     "metadata": {},
     "output_type": "execute_result"
    },
    {
     "data": {
      "image/png": "[encoded data removed]",
      "text/plain": [
       "<Figure size 432x288 with 1 Axes>"
      ]
     },
     "metadata": {
      "needs_background": "light"
     },
     "output_type": "display_data"
    }
   ],
   "source": [
    "plt.plot(a_E399, K_jc)"
   ]
  },
  {
   "cell_type": "code",
   "execution_count": 79,
   "metadata": {},
   "outputs": [
    {
     "data": {
      "text/plain": [
       "<function matplotlib.pyplot.plot(*args, scalex=True, scaley=True, data=None, **kwargs)>"
      ]
     },
     "execution_count": 79,
     "metadata": {},
     "output_type": "execute_result"
    },
    {
     "data": {
      "image/png": "[encoded data removed]",
      "text/plain": [
       "<Figure size 432x288 with 2 Axes>"
      ]
     },
     "metadata": {
      "needs_background": "light"
     },
     "output_type": "display_data"
    }
   ],
   "source": [
    "fig = plt.figure()\n",
    "ax1 = fig.add_subplot(111)\n",
    "ax1.plot(a)\n",
    "ax1.set_ylabel('a', color='b')\n",
    "\n",
    "ax2 = ax1.twinx()\n",
    "ax2.plot(a_E399, 'r-')\n",
    "ax2.set_ylabel('a_E399', color='r')\n",
    "for tl in ax2.get_yticklabels():\n",
    "    tl.set_color('r')\n",
    "    \n",
    "plt.plot"
   ]
  },
  {
   "cell_type": "code",
   "execution_count": null,
   "metadata": {},
   "outputs": [],
   "source": []
  }
 ],
 "metadata": {
  "kernelspec": {
   "display_name": "fracture_toughness",
   "language": "python",
   "name": "fracture_toughness"
  },
  "language_info": {
   "codemirror_mode": {
    "name": "ipython",
    "version": 3
   },
   "file_extension": ".py",
   "mimetype": "text/x-python",
   "name": "python",
   "nbconvert_exporter": "python",
   "pygments_lexer": "ipython3",
   "version": "3.8.5"
  }
 },
 "nbformat": 4,
 "nbformat_minor": 4
}
